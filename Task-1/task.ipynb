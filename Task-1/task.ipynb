{
 "cells": [
  {
   "cell_type": "markdown",
   "metadata": {},
   "source": [
    "# This is the solution to the Task 1 of AI Domain of Cognizance"
   ]
  },
  {
   "cell_type": "markdown",
   "metadata": {},
   "source": [
    "### Question 1: Write a python program that reads the contents from the given file 'onelinefile.txt'. The file contains a single line which is of the format (int)(string)(float)(string) repeatedly. For e.g.\n",
    ">1Aaa3.5Maths2Bbb4.2Physics3Ccc7.62Chemistry"
   ]
  },
  {
   "cell_type": "code",
   "execution_count": 126,
   "metadata": {},
   "outputs": [],
   "source": [
    "import re\n",
    "txt = open(\"onlinefile.txt\",\"r\").readlines()[0] # Getting the string\n",
    "result = re.findall(\"(\\d+)([a-zA-Z]+)(\\d+.\\d+)([a-zA-Z]+)\",txt)\n",
    "txtnew = open('Filename2.csv',\"w\")\n",
    "for i in result:\n",
    "    txtnew.write(\"{},{},{},{}\\n\".format(i[0],i[1],i[2],i[3]))\n"
   ]
  },
  {
   "cell_type": "markdown",
   "metadata": {},
   "source": [
    "### Question 2: Data formatting\n",
    "#### Python libraries represent missing numbers as nan which is short for \"not a number\". Most libraries (including scikit-learn) will give you an error if you try to build a model using data with missing values. One of the common solution to get around this issue is to impute or fill in the missing value with a number or value of same format. From the given dataset, find the missing values(Nan/NA/-/Nil) and change those values into an appropriate number.\n",
    "### <a href=\"https://github.com/cognizance-amrita/AI-Tasks/blob/main/Task-1/Q2-Dataset.csv\">Data Set Link</a>"
   ]
  },
  {
   "cell_type": "code",
   "execution_count": 127,
   "metadata": {},
   "outputs": [
    {
     "name": "stdout",
     "output_type": "stream",
     "text": [
      "Column with missing values is: LotFrontage\n",
      "Fixed using mean\n",
      "Column with missing values is: Alley\n",
      "Fiixed using ffill\n",
      "Fiixed using bfill\n",
      "Column with missing values is: BsmtQual\n",
      "Fiixed using ffill\n",
      "Fiixed using bfill\n",
      "Column with missing values is: BsmtCond\n",
      "Fiixed using ffill\n",
      "Fiixed using bfill\n",
      "Column with missing values is: BsmtExposure\n",
      "Fiixed using ffill\n",
      "Fiixed using bfill\n",
      "Column with missing values is: BsmtFinType1\n",
      "Fiixed using ffill\n",
      "Fiixed using bfill\n",
      "Column with missing values is: BsmtFinType2\n",
      "Fiixed using ffill\n",
      "Fiixed using bfill\n"
     ]
    },
    {
     "data": {
      "text/html": [
       "<div>\n",
       "<style scoped>\n",
       "    .dataframe tbody tr th:only-of-type {\n",
       "        vertical-align: middle;\n",
       "    }\n",
       "\n",
       "    .dataframe tbody tr th {\n",
       "        vertical-align: top;\n",
       "    }\n",
       "\n",
       "    .dataframe thead th {\n",
       "        text-align: right;\n",
       "    }\n",
       "</style>\n",
       "<table border=\"1\" class=\"dataframe\">\n",
       "  <thead>\n",
       "    <tr style=\"text-align: right;\">\n",
       "      <th></th>\n",
       "      <th>Id</th>\n",
       "      <th>MSSubClass</th>\n",
       "      <th>MSZoning</th>\n",
       "      <th>LotFrontage</th>\n",
       "      <th>LotArea</th>\n",
       "      <th>Street</th>\n",
       "      <th>Alley</th>\n",
       "      <th>LotShape</th>\n",
       "      <th>LandContour</th>\n",
       "      <th>Utilities</th>\n",
       "      <th>...</th>\n",
       "      <th>MasVnrArea</th>\n",
       "      <th>ExterQual</th>\n",
       "      <th>ExterCond</th>\n",
       "      <th>Foundation</th>\n",
       "      <th>BsmtQual</th>\n",
       "      <th>BsmtCond</th>\n",
       "      <th>BsmtExposure</th>\n",
       "      <th>BsmtFinType1</th>\n",
       "      <th>BsmtFinSF1</th>\n",
       "      <th>BsmtFinType2</th>\n",
       "    </tr>\n",
       "  </thead>\n",
       "  <tbody>\n",
       "    <tr>\n",
       "      <th>0</th>\n",
       "      <td>1</td>\n",
       "      <td>60</td>\n",
       "      <td>RL</td>\n",
       "      <td>65.0</td>\n",
       "      <td>8450</td>\n",
       "      <td>Pave</td>\n",
       "      <td>Grvl</td>\n",
       "      <td>Reg</td>\n",
       "      <td>Lvl</td>\n",
       "      <td>AllPub</td>\n",
       "      <td>...</td>\n",
       "      <td>196</td>\n",
       "      <td>Gd</td>\n",
       "      <td>TA</td>\n",
       "      <td>PConc</td>\n",
       "      <td>Gd</td>\n",
       "      <td>TA</td>\n",
       "      <td>No</td>\n",
       "      <td>GLQ</td>\n",
       "      <td>706</td>\n",
       "      <td>Unf</td>\n",
       "    </tr>\n",
       "    <tr>\n",
       "      <th>1</th>\n",
       "      <td>2</td>\n",
       "      <td>20</td>\n",
       "      <td>RL</td>\n",
       "      <td>80.0</td>\n",
       "      <td>9600</td>\n",
       "      <td>Pave</td>\n",
       "      <td>Grvl</td>\n",
       "      <td>Reg</td>\n",
       "      <td>Lvl</td>\n",
       "      <td>AllPub</td>\n",
       "      <td>...</td>\n",
       "      <td>0</td>\n",
       "      <td>TA</td>\n",
       "      <td>TA</td>\n",
       "      <td>CBlock</td>\n",
       "      <td>Gd</td>\n",
       "      <td>TA</td>\n",
       "      <td>Gd</td>\n",
       "      <td>ALQ</td>\n",
       "      <td>978</td>\n",
       "      <td>Unf</td>\n",
       "    </tr>\n",
       "    <tr>\n",
       "      <th>2</th>\n",
       "      <td>3</td>\n",
       "      <td>60</td>\n",
       "      <td>RL</td>\n",
       "      <td>68.0</td>\n",
       "      <td>11250</td>\n",
       "      <td>Pave</td>\n",
       "      <td>Grvl</td>\n",
       "      <td>IR1</td>\n",
       "      <td>Lvl</td>\n",
       "      <td>AllPub</td>\n",
       "      <td>...</td>\n",
       "      <td>162</td>\n",
       "      <td>Gd</td>\n",
       "      <td>TA</td>\n",
       "      <td>PConc</td>\n",
       "      <td>Gd</td>\n",
       "      <td>TA</td>\n",
       "      <td>Mn</td>\n",
       "      <td>GLQ</td>\n",
       "      <td>486</td>\n",
       "      <td>Unf</td>\n",
       "    </tr>\n",
       "    <tr>\n",
       "      <th>3</th>\n",
       "      <td>4</td>\n",
       "      <td>70</td>\n",
       "      <td>RL</td>\n",
       "      <td>60.0</td>\n",
       "      <td>9550</td>\n",
       "      <td>Pave</td>\n",
       "      <td>Grvl</td>\n",
       "      <td>IR1</td>\n",
       "      <td>Lvl</td>\n",
       "      <td>AllPub</td>\n",
       "      <td>...</td>\n",
       "      <td>0</td>\n",
       "      <td>TA</td>\n",
       "      <td>TA</td>\n",
       "      <td>BrkTil</td>\n",
       "      <td>TA</td>\n",
       "      <td>Gd</td>\n",
       "      <td>No</td>\n",
       "      <td>ALQ</td>\n",
       "      <td>216</td>\n",
       "      <td>Unf</td>\n",
       "    </tr>\n",
       "    <tr>\n",
       "      <th>4</th>\n",
       "      <td>5</td>\n",
       "      <td>60</td>\n",
       "      <td>RL</td>\n",
       "      <td>84.0</td>\n",
       "      <td>14260</td>\n",
       "      <td>Pave</td>\n",
       "      <td>Grvl</td>\n",
       "      <td>IR1</td>\n",
       "      <td>Lvl</td>\n",
       "      <td>AllPub</td>\n",
       "      <td>...</td>\n",
       "      <td>350</td>\n",
       "      <td>Gd</td>\n",
       "      <td>TA</td>\n",
       "      <td>PConc</td>\n",
       "      <td>Gd</td>\n",
       "      <td>TA</td>\n",
       "      <td>Av</td>\n",
       "      <td>GLQ</td>\n",
       "      <td>655</td>\n",
       "      <td>Unf</td>\n",
       "    </tr>\n",
       "  </tbody>\n",
       "</table>\n",
       "<p>5 rows × 36 columns</p>\n",
       "</div>"
      ],
      "text/plain": [
       "   Id  MSSubClass MSZoning LotFrontage  LotArea Street Alley LotShape  \\\n",
       "0   1          60       RL        65.0     8450   Pave  Grvl      Reg   \n",
       "1   2          20       RL        80.0     9600   Pave  Grvl      Reg   \n",
       "2   3          60       RL        68.0    11250   Pave  Grvl      IR1   \n",
       "3   4          70       RL        60.0     9550   Pave  Grvl      IR1   \n",
       "4   5          60       RL        84.0    14260   Pave  Grvl      IR1   \n",
       "\n",
       "  LandContour Utilities  ... MasVnrArea ExterQual ExterCond Foundation  \\\n",
       "0         Lvl    AllPub  ...        196        Gd        TA      PConc   \n",
       "1         Lvl    AllPub  ...          0        TA        TA     CBlock   \n",
       "2         Lvl    AllPub  ...        162        Gd        TA      PConc   \n",
       "3         Lvl    AllPub  ...          0        TA        TA     BrkTil   \n",
       "4         Lvl    AllPub  ...        350        Gd        TA      PConc   \n",
       "\n",
       "  BsmtQual BsmtCond BsmtExposure  BsmtFinType1  BsmtFinSF1  BsmtFinType2  \n",
       "0       Gd       TA           No           GLQ         706           Unf  \n",
       "1       Gd       TA           Gd           ALQ         978           Unf  \n",
       "2       Gd       TA           Mn           GLQ         486           Unf  \n",
       "3       TA       Gd           No           ALQ         216           Unf  \n",
       "4       Gd       TA           Av           GLQ         655           Unf  \n",
       "\n",
       "[5 rows x 36 columns]"
      ]
     },
     "execution_count": 127,
     "metadata": {},
     "output_type": "execute_result"
    }
   ],
   "source": [
    "import pandas as pd\n",
    "df = pd.read_csv(\"https://raw.githubusercontent.com/cognizance-amrita/AI-Tasks/main/Task-1/Q2-Dataset.csv\")\n",
    "for x in df.columns:\n",
    "    if (df[x].dtype == \"int64\" or df[x].dtype == \"float64\"): # To check for float64 or int64\n",
    "        if(len(df[df[x].isna()]) != 0): # To check for null values\n",
    "            print(\"Column with missing values is: {}\".format(x))\n",
    "            df[x].fillna(value = df[x].mean, inplace = True) # To replace it with mean value\n",
    "            print(\"Fixed using mean\")\n",
    "    else:\n",
    "        if(len(df[df[x].isna()]) != 0): # To check for null values\n",
    "            print(\"Column with missing values is: {}\".format(x))\n",
    "            df[x].fillna(method=\"ffill\", inplace = True)\n",
    "            print(\"Fiixed using ffill\")\n",
    "            df[x].fillna(method=\"bfill\", inplace = True)\n",
    "            print(\"Fiixed using bfill\")\n",
    "df.head()"
   ]
  },
  {
   "cell_type": "markdown",
   "metadata": {},
   "source": [
    "## Question 3: Read the file 'about.txt' and find the words with atleast 6 letters and the most frequently used word."
   ]
  },
  {
   "cell_type": "code",
   "execution_count": 128,
   "metadata": {},
   "outputs": [
    {
     "name": "stdout",
     "output_type": "stream",
     "text": [
      "The list of all words with atleast 6 words are: \n",
      "['Python', 'almost', 'aspect', 'scientific', 'computing', 'America', 'Python', 'crunch', 'financial', 'Facebook', 'Python', 'library', 'Pandas', 'analysis', 'libraries', 'available', 'perform', 'analysis', 'Python', 'Pandas', 'Matplotlib']\n",
      "The most used word is: Python\n"
     ]
    }
   ],
   "source": [
    "import re\n",
    "txt = open(\"about.txt\",\"r\").readlines()[0]\n",
    "result = re.findall(\"([a-zA-Z]{6,100})(?=\\s*\\.*\\,*)\",txt)\n",
    "print(\"The list of all words with atleast 6 words are: \")\n",
    "print(result)\n",
    "set = {}\n",
    "\n",
    "for x in result:\n",
    "    if(x in set):\n",
    "        set[x] = set[x] + 1\n",
    "    else:\n",
    "        set[x] = 1\n",
    "\n",
    "max = 0\n",
    "value = \"\"\n",
    "\n",
    "for x in set:\n",
    "    if(set[x] > max):\n",
    "        max = set[x]\n",
    "        value = x\n",
    "print(\"The most used word is: {}\".format(value))"
   ]
  },
  {
   "cell_type": "markdown",
   "metadata": {},
   "source": [
    "## Question 4: Given food name, price, rating(out of 5) and their datatypes, create a structured array using NumPy and sort the array on rating\n",
    "#### <a href=\"https://raw.githubusercontent.com/cognizance-amrita/AI-Tasks/main/Task-1/Q4-Dataset.csv\"> Dataset Link </a>"
   ]
  },
  {
   "cell_type": "code",
   "execution_count": 129,
   "metadata": {},
   "outputs": [
    {
     "name": "stdout",
     "output_type": "stream",
     "text": [
      "The Structured array hence is: [('B00813GRG4', 183, 3.91) ('B000LQOCH0', 160, 4.6 )\n",
      " ('B000UA0QIQ', 161, 3.64) ('B006K2ZZ7K', 157, 1.76)\n",
      " ('B000E7L2R4', 148, 0.48) ('B00171APVA', 184, 1.  )\n",
      " ('B0001PB9FE', 148, 0.29) ('B0009XLVG0', 116, 2.36)\n",
      " ('B001GVISJM', 177, 0.61)]\n",
      "Sorted array is: [('B000JEHAHS', 133, 0.12) ('B0001PB9FY', 183, 0.19)\n",
      " ('B005DUM9UQ', 138, 0.24) ('B002GWHC0G', 165, 0.26)\n",
      " ('B0001PB9FE', 148, 0.29) ('B0093NIWVO', 127, 0.31)\n",
      " ('B000G6RPMY', 111, 0.38) ('B0017I8UME', 139, 0.43)\n",
      " ('B0019CW0HE', 178, 0.43)]\n"
     ]
    }
   ],
   "source": [
    "import pandas as pd\n",
    "import numpy as np\n",
    "df = pd.read_csv(\"https://raw.githubusercontent.com/cognizance-amrita/AI-Tasks/main/Task-1/Q4-Dataset.csv\")\n",
    "result = np.array([tuple(x) for x in df.to_records(index=False)],dtype = [(\"name\",(np.str_,20)),(\"price\",np.int32),(\"rating\",np.float64)])\n",
    "print(\"The Structured array hence is: {}\".format(result[1:10]))\n",
    "sorted_result = np.sort(result, order = \"rating\")\n",
    "print(\"Sorted array is: {}\".format(sorted_result[1:10]))"
   ]
  },
  {
   "cell_type": "markdown",
   "metadata": {},
   "source": [
    "## Question 5: Let x be the size of houses in sq feet. x can take values between 700 to 2400 and is a multiple of 10. \n",
    "#### The price of the house (y) is found by the equation y = 10*x^2 + 2*x.\n",
    "#### Pass the values into a .csv file and plot a graph of the prices against the size of houses. Provide appropriate labels for the axes.\n"
   ]
  },
  {
   "cell_type": "code",
   "execution_count": 131,
   "metadata": {},
   "outputs": [
    {
     "data": {
      "image/png": "[encoded data removed]",
      "text/plain": [
       "<Figure size 432x288 with 1 Axes>"
      ]
     },
     "metadata": {
      "needs_background": "light"
     },
     "output_type": "display_data"
    }
   ],
   "source": [
    "import matplotlib.pyplot as plt\n",
    "import pandas as pd\n",
    "start = 700\n",
    "end = 2410\n",
    "\n",
    "result = open(\"plot.csv\", \"w\")\n",
    "\n",
    "for i in range(start, end, 10):\n",
    "  result.writelines(\"{},{}\\n\".format(i,10*(i**2)+(2*i)))  \n",
    "\n",
    "df = pd.read_csv(\"plot.csv\", header=None)\n",
    "df.columns = ['X','Y']\n",
    "X = list(df['X'])\n",
    "Y = list(df['Y'])\n",
    "plt.plot(X,Y)\n",
    "plt.xlabel(\"X-Axis\")\n",
    "plt.ylabel(\"Y-Axis\")\n",
    "plt.show()"
   ]
  }
 ],
 "metadata": {
  "kernelspec": {
   "display_name": "Python 3.7.9 64-bit",
   "language": "python",
   "name": "python3"
  },
  "language_info": {
   "codemirror_mode": {
    "name": "ipython",
    "version": 3
   },
   "file_extension": ".py",
   "mimetype": "text/x-python",
   "name": "python",
   "nbconvert_exporter": "python",
   "pygments_lexer": "ipython3",
   "version": "3.7.9"
  },
  "orig_nbformat": 4,
  "vscode": {
   "interpreter": {
    "hash": "968a30a92ceae8d38a916121a71a7b64bacef51ced21f12d8f3463e0b43c4db7"
   }
  }
 },
 "nbformat": 4,
 "nbformat_minor": 2
}
