{
 "cells": [
  {
   "cell_type": "markdown",
   "metadata": {},
   "source": [
    "# This is task 2 of Cognizance AI domain of Data Visualization"
   ]
  },
  {
   "cell_type": "markdown",
   "metadata": {},
   "source": [
    "### Question 1: Generate bar plot, histogram plot, scatter plot, heatmap and visualise the data with the help of matplotlib or seaborn libraries for the dataset link given below?\n",
    "### <a href=\"(https://www.kaggle.com/datasets/rohanrao/nifty50-stock-market-data)\">Dataset Link</a>"
   ]
  },
  {
   "cell_type": "code",
   "execution_count": null,
   "metadata": {},
   "outputs": [],
   "source": [
    "import pandas as pd\n",
    "import numpy as np\n",
    "\n",
    "df = pd.read_csv()"
   ]
  }
 ],
 "metadata": {
  "kernelspec": {
   "display_name": "Python 3.7.9 64-bit",
   "language": "python",
   "name": "python3"
  },
  "language_info": {
   "codemirror_mode": {
    "name": "ipython",
    "version": 3
   },
   "file_extension": ".py",
   "mimetype": "text/x-python",
   "name": "python",
   "nbconvert_exporter": "python",
   "pygments_lexer": "ipython3",
   "version": "3.7.9"
  },
  "orig_nbformat": 4,
  "vscode": {
   "interpreter": {
    "hash": "968a30a92ceae8d38a916121a71a7b64bacef51ced21f12d8f3463e0b43c4db7"
   }
  }
 },
 "nbformat": 4,
 "nbformat_minor": 2
}
